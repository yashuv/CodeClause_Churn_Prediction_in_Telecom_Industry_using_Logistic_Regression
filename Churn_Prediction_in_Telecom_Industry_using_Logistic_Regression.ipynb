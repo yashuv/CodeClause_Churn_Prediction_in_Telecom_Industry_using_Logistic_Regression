{
 "cells": [
  {
   "attachments": {},
   "cell_type": "markdown",
   "id": "2fe6b10e-6264-4c62-b85d-da27d6c87f26",
   "metadata": {
    "tags": []
   },
   "source": [
    "# Project 01: Churn Prediction in Telecom Industry using Logistic Regression\n",
    "<img src=\"image/img_customer_churn.jpg\">\n",
    "\n",
    "### Submitted By: Yashuv Baskota\n",
    "### Language- Python\n",
    "### Datasets :- https://www.kaggle.com/datasets/mnassrib/telecom-churn-datasets"
   ]
  },
  {
   "cell_type": "markdown",
   "id": "1c652282-0665-4fb4-a6fc-326b4f09daee",
   "metadata": {},
   "source": [
    "### Defining Customer Churn\n",
    "It is when an existing customer, user, player, subscriber or any kind of return client stops doing business or ends the relationship with a company."
   ]
  },
  {
   "cell_type": "markdown",
   "id": "b41a9cba-e03e-407f-8fdc-9098027e771c",
   "metadata": {
    "tags": []
   },
   "source": [
    "## 1. Importing necessary libraries"
   ]
  },
  {
   "cell_type": "code",
   "execution_count": null,
   "id": "5878a505-8080-49ef-85f5-5a7521de3d4b",
   "metadata": {},
   "outputs": [],
   "source": [
    "import pandas as pd\n",
    "import numpy as np\n",
    "import os\n",
    "\n",
    "import matplotlib.pyplot as plt\n",
    "import seaborn as sns\n",
    "\n",
    "from sklearn.linear_model import LogisticRegression\n",
    "from sklearn.model_selection import train_test_split\n",
    "from sklearn.preprocessing import StandardScaler\n",
    "\n",
    "from sklearn.metrics import confusion_matrix, accuracy_score, classification_report\n",
    "from sklearn.metrics import roc_auc_score, roc_curve, f1_score, precision_score, recall_score\n",
    "\n",
    "import warnings\n",
    "warnings.filterwarnings(\"ignore\")\n",
    "\n",
    "%matplotlib inline"
   ]
  },
  {
   "cell_type": "markdown",
   "id": "b63963d5-57dc-4d07-bbff-f49fd29aa8bf",
   "metadata": {
    "tags": []
   },
   "source": [
    "## 2. Exploratory Data Analysis"
   ]
  },
  {
   "cell_type": "code",
   "execution_count": null,
   "id": "38796371-03b3-4757-a9d2-295d90983fcc",
   "metadata": {},
   "outputs": [],
   "source": [
    "# path to the dataset folder\n",
    "folder_path = '.\\data'\n",
    "\n",
    "# list all the filenames in the folder\n",
    "filenames = os.listdir(folder_path)\n",
    "\n",
    "# print the filenames\n",
    "for filenames in os.listdir(folder_path):\n",
    "    print(os.path.join(folder_path,filenames))"
   ]
  },
  {
   "cell_type": "code",
   "execution_count": null,
   "id": "e2ead7d6-b989-49dd-9c4a-f943d4431c20",
   "metadata": {},
   "outputs": [],
   "source": [
    "telcom1 = pd.read_csv(\"data/churn-bigml-80.csv\")\n",
    "telcom2 = pd.read_csv(\"data/churn-bigml-20.csv\")\n",
    "\n",
    "# load all dataset into a DataFrame\n",
    "telcom = pd.concat([telcom1, telcom2], ignore_index=True)"
   ]
  },
  {
   "cell_type": "code",
   "execution_count": null,
   "id": "58ef0db3-cb92-4de0-a22a-59e95ae5b3b5",
   "metadata": {},
   "outputs": [],
   "source": [
    "telcom.head()"
   ]
  },
  {
   "cell_type": "code",
   "execution_count": null,
   "id": "f9b2f3fa-0ec9-43d5-942b-22c8aedcaceb",
   "metadata": {},
   "outputs": [],
   "source": [
    "telcom.shape"
   ]
  },
  {
   "cell_type": "code",
   "execution_count": null,
   "id": "def0d75a-ae0b-4ae1-b2e7-ebaca7b90ae2",
   "metadata": {},
   "outputs": [],
   "source": [
    "telcom.info()"
   ]
  },
  {
   "cell_type": "markdown",
   "id": "58edef20-3b41-4dbe-9fc0-3126af4a9ce7",
   "metadata": {},
   "source": [
    "Comment: Hence, we found that the dataset contains *3333* rows (customers) and *20* columns (features).<br>\n",
    "The `\"Churn\"` column is the target to predict."
   ]
  },
  {
   "cell_type": "code",
   "execution_count": null,
   "id": "b959b1bc-0147-4ac1-8ad1-ac4c50fc3b32",
   "metadata": {},
   "outputs": [],
   "source": [
    "# accessing Churn feature\n",
    "telcom['Churn'].head(10)"
   ]
  },
  {
   "cell_type": "markdown",
   "id": "cded30fc-d89f-4b37-9cfd-33ca834fb554",
   "metadata": {},
   "source": [
    "### Descriptive Analysis and Data Visualization"
   ]
  },
  {
   "cell_type": "code",
   "execution_count": null,
   "id": "ff3f2af2-10d0-434d-8a68-15b0103fb61c",
   "metadata": {},
   "outputs": [],
   "source": [
    "telcom.describe()"
   ]
  },
  {
   "cell_type": "code",
   "execution_count": null,
   "id": "b594b130-eefd-4885-a896-bfd031c38e86",
   "metadata": {},
   "outputs": [],
   "source": [
    "# Count the number of data points in each category\n",
    "y = telcom['Churn'].value_counts()\n",
    "y"
   ]
  },
  {
   "cell_type": "code",
   "execution_count": null,
   "id": "783f8101-7d45-4f67-959d-fe7d2c37a7e7",
   "metadata": {},
   "outputs": [],
   "source": [
    "# Create the pie chart\n",
    "plt.pie(y, labels=y.index, autopct='%1.1f%%')\n",
    "\n",
    "# Customize the appearance of the pie chart\n",
    "plt.title('Distribution of Churn')\n",
    "plt.legend(title='Churn')\n",
    "plt.show()"
   ]
  },
  {
   "cell_type": "code",
   "execution_count": null,
   "id": "b95d6c86-0447-4a73-85b5-0ee8edbaa329",
   "metadata": {},
   "outputs": [],
   "source": [
    "sns.barplot(x=y.index, y=y.values)"
   ]
  },
  {
   "cell_type": "markdown",
   "id": "ee1e87c0-d7d8-480d-9317-e31929ef866e",
   "metadata": {
    "tags": []
   },
   "source": [
    "### Summary statistics for both classes"
   ]
  },
  {
   "cell_type": "code",
   "execution_count": null,
   "id": "22b392bf-0314-4042-b88b-4209bf5e439c",
   "metadata": {},
   "outputs": [],
   "source": [
    "# Group telcom by 'Churn' and compute the mean\n",
    "telcom.groupby(['Churn']).mean()"
   ]
  },
  {
   "cell_type": "markdown",
   "id": "32bdc8df-16ab-44d7-ac6d-0bc166e76b51",
   "metadata": {},
   "source": [
    "Churners seem to make more customer service calls than non-churners."
   ]
  },
  {
   "cell_type": "code",
   "execution_count": null,
   "id": "fd644b70-1b80-4870-ad2f-d5b3e9133113",
   "metadata": {},
   "outputs": [],
   "source": [
    "telcom.groupby(['Churn']).std()"
   ]
  },
  {
   "cell_type": "markdown",
   "id": "5bf86c33-3396-4140-b9ed-9c94d4eff338",
   "metadata": {},
   "source": [
    "### Churn by State"
   ]
  },
  {
   "cell_type": "code",
   "execution_count": null,
   "id": "95fcace0-366b-4e61-841d-c46853431d64",
   "metadata": {},
   "outputs": [],
   "source": [
    "telcom.groupby('State')['Churn'].value_counts()"
   ]
  },
  {
   "cell_type": "code",
   "execution_count": null,
   "id": "1703093e-edd5-46eb-a8ac-38a246b05002",
   "metadata": {},
   "outputs": [],
   "source": [
    "telcom.groupby(['State','Churn']).size().unstack().plot(kind='bar', stacked=True, figsize=(30,10))"
   ]
  },
  {
   "cell_type": "markdown",
   "id": "0eb9d7f3-a76a-4a86-b0f2-5d0c02970903",
   "metadata": {},
   "source": [
    "Comment: This is useful information for a company!"
   ]
  },
  {
   "cell_type": "markdown",
   "id": "56c84d8a-6aca-499c-a2b9-f81d2d39a529",
   "metadata": {},
   "source": [
    "#### Exploring feature distributions"
   ]
  },
  {
   "cell_type": "code",
   "execution_count": null,
   "id": "189568a2-6dc6-431e-a887-41628ead4470",
   "metadata": {},
   "outputs": [],
   "source": [
    "# visualize the distribution of 'Account length'\n",
    "sns.distplot(telcom['Account length'])\n",
    "\n",
    "# display the plot\n",
    "plt.show()"
   ]
  },
  {
   "cell_type": "code",
   "execution_count": null,
   "id": "5a231de5-3195-42b6-a774-2944c95731ea",
   "metadata": {},
   "outputs": [],
   "source": [
    "sns.distplot(telcom['Total day minutes'])\n",
    "plt.show()"
   ]
  },
  {
   "cell_type": "code",
   "execution_count": null,
   "id": "e5943e42-48e1-4579-93b1-0051c6c19585",
   "metadata": {},
   "outputs": [],
   "source": [
    "sns.distplot(telcom['Total eve minutes'])\n",
    "plt.show()"
   ]
  },
  {
   "cell_type": "code",
   "execution_count": null,
   "id": "d7271547-1957-4cf9-b554-aeecc1f4cbee",
   "metadata": {},
   "outputs": [],
   "source": [
    "sns.distplot(telcom['Total intl minutes'])\n",
    "plt.show()"
   ]
  },
  {
   "cell_type": "markdown",
   "id": "77667ddc-6cec-4719-ae8b-79e7e85640fc",
   "metadata": {},
   "source": [
    "Comment: All of these features above appear to be well approximated by the normal distribution. If this were not the case, we would have to consider applying a feature transformation of some kind."
   ]
  },
  {
   "cell_type": "markdown",
   "id": "9a740fc5-7e4f-46d4-a690-3f7b23606c62",
   "metadata": {
    "tags": []
   },
   "source": [
    "## 3. Data preprocessing\n"
   ]
  },
  {
   "cell_type": "markdown",
   "id": "0660b151-5831-44b5-a8cc-85cfd5016316",
   "metadata": {},
   "source": [
    "### Cleaning the data"
   ]
  },
  {
   "cell_type": "code",
   "execution_count": null,
   "id": "afe013e7-a153-4036-a1a4-da3eeb54e009",
   "metadata": {},
   "outputs": [],
   "source": [
    "# Check for missing values\n",
    "has_missing = telcom.isnull().any()\n",
    "has_missing"
   ]
  },
  {
   "cell_type": "code",
   "execution_count": null,
   "id": "26b35df2-66b2-4b12-8a49-283c68de9945",
   "metadata": {},
   "outputs": [],
   "source": [
    "# check for duplicate rows \n",
    "duplicate_rows = telcom[telcom.duplicated()]\n",
    "duplicate_rows"
   ]
  },
  {
   "cell_type": "markdown",
   "id": "6e55ca9d-b03a-4b26-bb65-2f5cc45ac11e",
   "metadata": {
    "tags": []
   },
   "source": [
    "### Identifying features to convert"
   ]
  },
  {
   "cell_type": "code",
   "execution_count": null,
   "id": "d4bb0823-5a1d-4f90-b218-a15b2a4b55db",
   "metadata": {},
   "outputs": [],
   "source": [
    "telcom.head()"
   ]
  },
  {
   "cell_type": "code",
   "execution_count": null,
   "id": "aaf6807a-56c6-47fa-9000-77c379a856e7",
   "metadata": {},
   "outputs": [],
   "source": [
    "telcom.dtypes"
   ]
  },
  {
   "cell_type": "code",
   "execution_count": null,
   "id": "13f808b4-3e01-436c-9dd3-5bc234394290",
   "metadata": {},
   "outputs": [],
   "source": [
    "# Find the columns that contain boolean values\n",
    "bool_columns = telcom.select_dtypes(include=['bool']).columns\n",
    "print(bool_columns)\n",
    "\n",
    "# Find the columns of object type\n",
    "object_columns = telcom.select_dtypes(include=['object']).columns\n",
    "print(object_columns)"
   ]
  },
  {
   "cell_type": "markdown",
   "id": "6504f4f4-1037-4c92-ae85-8b1402506a92",
   "metadata": {},
   "source": [
    "### Encoding binary features"
   ]
  },
  {
   "cell_type": "code",
   "execution_count": null,
   "id": "90eaaa12-3008-4af4-94f0-afcd19ac04cc",
   "metadata": {},
   "outputs": [],
   "source": [
    "# Convert the boolean values to integers\n",
    "telcom[bool_columns] = telcom[bool_columns].astype(int)"
   ]
  },
  {
   "cell_type": "code",
   "execution_count": null,
   "id": "62932873-f179-4a75-a64e-c657396a8643",
   "metadata": {},
   "outputs": [],
   "source": [
    "# Replace 'no' with 0 and 'yes' with 1 in 'International plan' and 'Voice mail plan'\n",
    "telcom[['International plan','Voice mail plan']] = telcom[['International plan','Voice mail plan']].apply(lambda x: x.map({'No': 0, 'Yes': 1}))"
   ]
  },
  {
   "cell_type": "code",
   "execution_count": null,
   "id": "e590dd6b-61bd-4725-ab1b-a278bf797169",
   "metadata": {},
   "outputs": [],
   "source": [
    "# see the results\n",
    "telcom[['International plan','Voice mail plan','Churn']].head()"
   ]
  },
  {
   "cell_type": "markdown",
   "id": "5b3974e9-68a2-4392-82fc-ec68ae9cad53",
   "metadata": {},
   "source": [
    "### Feature selection and engineering\n",
    "\n",
    "Dropping unnecessary and correlated features"
   ]
  },
  {
   "cell_type": "code",
   "execution_count": null,
   "id": "505df437-c5dc-49b5-a509-83e84dc12514",
   "metadata": {},
   "outputs": [],
   "source": [
    "# drop 'State' feature\n",
    "telcom = telcom.drop(telcom[['State']], axis=1)\n",
    "\n",
    "# Calculate the correlation matrix\n",
    "corr_matrix = telcom.corr()\n",
    "\n",
    "# Select upper triangle of correlation matrix\n",
    "upper = corr_matrix.where(np.triu(np.ones(corr_matrix.shape), k=1).astype(np.bool))\n",
    "\n",
    "# Find index of feature columns with correlation greater than 0.95\n",
    "to_drop = [column for column in upper.columns if any(upper[column] > 0.95)]\n",
    "print(to_drop)\n",
    "\n",
    "# Drop the correlated features from the dataset\n",
    "telcom = telcom.drop(telcom[to_drop], axis=1)\n",
    "\n",
    "telcom.head()"
   ]
  },
  {
   "cell_type": "markdown",
   "id": "d4de722f-8dc0-4583-96af-46bc7e4c8642",
   "metadata": {},
   "source": [
    "### Feature scaling\n",
    "To ensure that all variables are on the same scale and have comparable influence on the model.<br>\n",
    "eg: Let's see the different scales of the `'Total intl calls'` and `'Total night minutes'` features:"
   ]
  },
  {
   "cell_type": "code",
   "execution_count": null,
   "id": "4e496c7a-f3f6-423d-958f-cd7a4760875b",
   "metadata": {},
   "outputs": [],
   "source": [
    "telcom['Total intl calls'].describe()"
   ]
  },
  {
   "cell_type": "code",
   "execution_count": null,
   "id": "5da3bb1f-f62e-41d6-bd59-f0ad466e3016",
   "metadata": {
    "tags": []
   },
   "outputs": [],
   "source": [
    "telcom['Total night minutes'].describe()"
   ]
  },
  {
   "cell_type": "code",
   "execution_count": null,
   "id": "efda37c9-0b58-4da2-ab66-6a01408f7e76",
   "metadata": {},
   "outputs": [],
   "source": [
    "# from sklearn.preprocessing import StandardScaler\n",
    "\n",
    "# Scale telcom using StandardScaler\n",
    "features_to_scale = [column for column in telcom.columns if column not in ['International plan','Voice mail plan','Churn']]\n",
    "# print(features_to_scale)\n",
    "telcom_scaled = StandardScaler().fit_transform(telcom[features_to_scale])\n",
    "\n",
    "# Add column names back for readability\n",
    "telcom_scaled_df = pd.DataFrame(telcom_scaled, columns=features_to_scale)\n",
    "\n",
    "# summary statistics\n",
    "print(telcom_scaled_df.describe())\n",
    "\n",
    "# final preprocessed dataframe\n",
    "telcom = pd.concat([telcom_scaled_df, telcom[['International plan', 'Voice mail plan','Churn']]], axis=1)"
   ]
  },
  {
   "cell_type": "markdown",
   "id": "2baff5aa-f6af-41dc-8615-23f8e8be71d6",
   "metadata": {
    "tags": []
   },
   "source": [
    "## 4. Model Building and Performance Evaluation"
   ]
  },
  {
   "cell_type": "markdown",
   "id": "a1e76d8e-8914-47f5-92b5-2fe3c34567f1",
   "metadata": {},
   "source": [
    "### Model Selection:"
   ]
  },
  {
   "cell_type": "markdown",
   "id": "a18b8965-565c-4d49-b1f1-10129f11b1de",
   "metadata": {
    "tags": []
   },
   "source": [
    "* **Logistic Regression**\n",
    "\n",
    "We choose `Logistic Regression` as our estimator for this project."
   ]
  },
  {
   "cell_type": "code",
   "execution_count": null,
   "id": "30c7dab5-3d89-47e5-898d-2e2de77b6b3b",
   "metadata": {},
   "outputs": [],
   "source": [
    "# from sklearn.linear_model import LogisticRegression\n",
    "\n",
    "# instantiate our classifier\n",
    "clf = LogisticRegression()"
   ]
  },
  {
   "cell_type": "markdown",
   "id": "46836c2a-f14b-4d68-826d-c9c2523673b5",
   "metadata": {},
   "source": [
    "### Creating training and test sets"
   ]
  },
  {
   "cell_type": "code",
   "execution_count": null,
   "id": "d4490d8b-3d65-4f25-9b82-b502b977930e",
   "metadata": {},
   "outputs": [],
   "source": [
    "# from sklearn.model_selection import train_test_split\n",
    "\n",
    "# create feature variable (which holds all of the features of telco by dropping the target variable 'Churn' from telco)\n",
    "X = telcom.drop(telcom[['Churn']], axis=1)\n",
    "\n",
    "# create target variable\n",
    "y = telcom['Churn']\n",
    "\n",
    "# Create training and testing sets (here 80% of the data is used for training.)\n",
    "X_train, X_test, y_train, y_test = train_test_split(X, y, test_size=0.2)"
   ]
  },
  {
   "cell_type": "code",
   "execution_count": null,
   "id": "f9f05b46-f35a-4ecd-910b-63e3fa2d875f",
   "metadata": {},
   "outputs": [],
   "source": [
    "# Fit to the training data\n",
    "clf.fit(X_train, y_train)\n",
    "\n",
    "# The predicted labels of classifier\n",
    "y_pred = clf.predict(X_test)"
   ]
  },
  {
   "cell_type": "markdown",
   "id": "cc48b734-156e-4cb9-9c4c-f872e204da11",
   "metadata": {},
   "source": [
    "### Check each sets length"
   ]
  },
  {
   "cell_type": "code",
   "execution_count": null,
   "id": "7a682202-81b1-4712-8593-ab0df6c08f51",
   "metadata": {},
   "outputs": [],
   "source": [
    "print(X_train.shape)\n",
    "print(X_test.shape)"
   ]
  },
  {
   "cell_type": "markdown",
   "id": "6b85cedd-2ebc-4261-8202-d715082c226a",
   "metadata": {},
   "source": [
    "### Model Metrics:"
   ]
  },
  {
   "cell_type": "code",
   "execution_count": null,
   "id": "af01dd80-963f-4690-8131-4e9f5bb1d09b",
   "metadata": {},
   "outputs": [],
   "source": [
    "# from sklearn.metrics import confusion_matrix, accuracy_score, classification_report\n",
    "# from sklearn.metrics import roc_auc_score, roc_curve, f1_score, precision_score, recall_score"
   ]
  },
  {
   "cell_type": "markdown",
   "id": "79455307-8e1f-4e71-9308-633b35a954a1",
   "metadata": {},
   "source": [
    "#### Confusion matrix"
   ]
  },
  {
   "cell_type": "code",
   "execution_count": null,
   "id": "d48b6c2e-d21b-4919-a635-40c4b80e41f3",
   "metadata": {},
   "outputs": [],
   "source": [
    "# Calculate the confusion matrix\n",
    "matrix = confusion_matrix(y_test, y_pred)\n",
    "# print(matrix)\n",
    "\n",
    "# Plot the confusion matrix using seaborn\n",
    "sns.heatmap(matrix, annot=True, fmt='d', cmap='magma')\n",
    "\n",
    "# Add labels to the plot\n",
    "plt.xlabel('Predicted labels')\n",
    "plt.ylabel('True labels')\n",
    "plt.title('Confusion Matrix')\n",
    "\n",
    "# Show the plot\n",
    "plt.show()"
   ]
  },
  {
   "cell_type": "code",
   "execution_count": null,
   "id": "4f1f3424-60d0-48b0-ad57-ff64dc27f3b3",
   "metadata": {},
   "outputs": [],
   "source": [
    "print(classification_report(y_test, y_pred))"
   ]
  },
  {
   "cell_type": "markdown",
   "id": "e3e1be81-2638-4684-bc2c-d8fa67f5c26f",
   "metadata": {},
   "source": [
    "#### Accuracy, Precision, Recall and F1 Score"
   ]
  },
  {
   "cell_type": "markdown",
   "id": "8c034cbd-9758-47c9-93d8-e3c100cba551",
   "metadata": {},
   "source": [
    "Accuracy is a measure of how well a classifier performs in terms of correctly predicting the class of an input sample.\n",
    "\n",
    "Recall is a measure of the proportion of positive examples that were correctly classified by the model. It is calculated using the following formula:\n",
    "$$Recall = \\frac{True Positives}{True Positives + False Negatives}$$\n",
    "\n",
    "Precision is a measure of the proportion of predicted positive examples that are actually positive. It is calculated using the following formula:\n",
    "\n",
    "$$Precision = \\frac{True Positives}{True Positives + False Positives}$$\n",
    "\n",
    "The F1 score is a measure of the accuracy of a classifier, defined as the harmonic mean of precision and recall.\n",
    "\n",
    "$$F_1 = \\frac{2 \\cdot \\text{precision} \\cdot \\text{recall}}{\\text{precision} + \\text{recall}}$$"
   ]
  },
  {
   "cell_type": "code",
   "execution_count": null,
   "id": "b04497e4-7a69-479e-b815-0fdd93af2528",
   "metadata": {},
   "outputs": [],
   "source": [
    "print(\"Accuracy: {:.2f}\".format(accuracy_score(y_test, y_pred)))\n",
    "print(\"Precision: {:.2f}\".format(precision_score(y_test, y_pred)))\n",
    "print(\"Recall: {:.2f}\".format(recall_score(y_test, y_pred)))\n",
    "print(\"F1 score: {:.2f}\".format(f1_score(y_test, y_pred)))"
   ]
  },
  {
   "cell_type": "markdown",
   "id": "850d8bd5-6c51-4071-bba8-81b8de08e503",
   "metadata": {},
   "source": [
    "#### ROC Curve"
   ]
  },
  {
   "cell_type": "code",
   "execution_count": null,
   "id": "df9d6a88-2867-44f4-8431-024c18622027",
   "metadata": {},
   "outputs": [],
   "source": [
    "# Generate the probabilities\n",
    "y_pred_prob = clf.predict_proba(X_test)[:,1]\n",
    "\n",
    "# Use roc_curve() to calculate the false positive rate, true positive rate, and thresholds.\n",
    "fpr, tpr, thresholds = roc_curve(y_test, y_pred_prob)\n",
    "\n",
    "# Plot the ROC curve\n",
    "plt.plot(fpr, tpr)\n",
    "\n",
    "# Add labels and diagonal line\n",
    "plt.xlabel(\"False Positive Rate\")\n",
    "plt.ylabel(\"True Positive Rate\")\n",
    "plt.plot([0, 1], [0, 1], \"k--\")\n",
    "plt.show()"
   ]
  },
  {
   "cell_type": "markdown",
   "id": "f52fbc3a-6eeb-45e6-a225-0568f6387c12",
   "metadata": {},
   "source": [
    "#### Area under the ROC curve"
   ]
  },
  {
   "cell_type": "code",
   "execution_count": null,
   "id": "6b8ad22a-6a4a-42e6-8575-8f15f28be626",
   "metadata": {},
   "outputs": [],
   "source": [
    "# the area under the ROC curve\n",
    "roc_auc_score(y_test, y_pred_prob)"
   ]
  },
  {
   "cell_type": "markdown",
   "id": "585aaf98-a007-4bf6-982e-bd44127c4eb5",
   "metadata": {
    "tags": []
   },
   "source": [
    "## 5. Making Predictions (whether a new customer will churn)"
   ]
  },
  {
   "cell_type": "code",
   "execution_count": null,
   "id": "52fbb023-55be-4429-819d-02237fc1db7e",
   "metadata": {},
   "outputs": [],
   "source": [
    "def make_prediction(customer):\n",
    "    prediction = clf.predict(customer)\n",
    "    if prediction[0] == 1:\n",
    "        print(\"[1] The customer will Churn.\")\n",
    "    else:\n",
    "        print(\"[0] The customer will not Churn\")"
   ]
  },
  {
   "cell_type": "code",
   "execution_count": null,
   "id": "24a9cb6c-cfa3-4252-b36c-ae20926c03a1",
   "metadata": {},
   "outputs": [],
   "source": [
    "# scaled input values\n",
    "new_customer1 = [[0.6262585675178604,\n",
    "                  1.7188173197427594,\n",
    "                 -1.0535424482925813,\n",
    "                 -0.6197347815607696,\n",
    "                 -1.1276788128173842,\n",
    "                 0.5464802852218092,\n",
    "                 -0.8676148392853111,\n",
    "                 0.3011544282701762,\n",
    "                 0.4523525497250106,\n",
    "                 -0.6011950896927287,\n",
    "                 -0.4279320210630441,\n",
    "                 0.0,\n",
    "                 0.0]]\n",
    "\n",
    "new_customer2 = [[0.5257967737031338,\n",
    "                  -0.5236032802413713,\n",
    "                  0.9387740897371452,\n",
    "                  1.5730210856813158,\n",
    "                  0.8326323403400316,\n",
    "                  -0.0559403500169171,\n",
    "                  -0.3653036104833324,\n",
    "                  -2.20323162813801,\n",
    "                  0.27323229022856793,\n",
    "                  -1.0075595662585095,\n",
    "                  -1.1882184955849664,\n",
    "                  1.0,\n",
    "                  0.0]]\n",
    "\n",
    "# make prediction on new customers\n",
    "make_prediction(new_customer1)\n",
    "make_prediction(new_customer2)"
   ]
  },
  {
   "cell_type": "markdown",
   "id": "f5256a4e-37ab-42fa-9202-9484668822af",
   "metadata": {
    "tags": []
   },
   "source": [
    "<br>\n",
    "\n",
    "## Thank You!"
   ]
  }
 ],
 "metadata": {
  "kernelspec": {
   "display_name": "Python 3 (ipykernel)",
   "language": "python",
   "name": "python3"
  },
  "language_info": {
   "codemirror_mode": {
    "name": "ipython",
    "version": 3
   },
   "file_extension": ".py",
   "mimetype": "text/x-python",
   "name": "python",
   "nbconvert_exporter": "python",
   "pygments_lexer": "ipython3",
   "version": "3.11.0"
  }
 },
 "nbformat": 4,
 "nbformat_minor": 5
}
